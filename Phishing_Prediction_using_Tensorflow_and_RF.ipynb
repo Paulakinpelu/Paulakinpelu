{
  "metadata": {
    "kernelspec": {
      "language": "python",
      "display_name": "Python 3",
      "name": "python3"
    },
    "language_info": {
      "pygments_lexer": "ipython3",
      "nbconvert_exporter": "python",
      "version": "3.6.4",
      "file_extension": ".py",
      "codemirror_mode": {
        "name": "ipython",
        "version": 3
      },
      "name": "python",
      "mimetype": "text/x-python"
    },
    "colab": {
      "name": "Phishing Prediction using Tensorflow and RF",
      "provenance": [],
      "include_colab_link": true
    }
  },
  "nbformat_minor": 0,
  "nbformat": 4,
  "cells": [
    {
      "cell_type": "markdown",
      "metadata": {
        "id": "view-in-github",
        "colab_type": "text"
      },
      "source": [
        "<a href=\"https://colab.research.google.com/github/Paulakinpelu/Paulakinpelu/blob/main/Phishing_Prediction_using_Tensorflow_and_RF.ipynb\" target=\"_parent\"><img src=\"https://colab.research.google.com/assets/colab-badge.svg\" alt=\"Open In Colab\"/></a>"
      ]
    },
    {
      "source": [
        "\n",
        "# IMPORTANT: RUN THIS CELL IN ORDER TO IMPORT YOUR KAGGLE DATA SOURCES\n",
        "# TO THE CORRECT LOCATION (/kaggle/input) IN YOUR NOTEBOOK,\n",
        "# THEN FEEL FREE TO DELETE THIS CELL.\n",
        "# NOTE: THIS NOTEBOOK ENVIRONMENT DIFFERS FROM KAGGLE'S PYTHON\n",
        "# ENVIRONMENT SO THERE MAY BE MISSING LIBRARIES USED BY YOUR\n",
        "# NOTEBOOK.\n",
        "\n",
        "import os\n",
        "import sys\n",
        "from tempfile import NamedTemporaryFile\n",
        "from urllib.request import urlopen\n",
        "from urllib.parse import unquote, urlparse\n",
        "from urllib.error import HTTPError\n",
        "from zipfile import ZipFile\n",
        "import tarfile\n",
        "import shutil\n",
        "\n",
        "CHUNK_SIZE = 40960\n",
        "DATA_SOURCE_MAPPING = 'phishing-dataset-for-machine-learning:https%3A%2F%2Fstorage.googleapis.com%2Fkaggle-data-sets%2F1373456%2F2280177%2Fbundle%2Farchive.zip%3FX-Goog-Algorithm%3DGOOG4-RSA-SHA256%26X-Goog-Credential%3Dgcp-kaggle-com%2540kaggle-161607.iam.gserviceaccount.com%252F20240408%252Fauto%252Fstorage%252Fgoog4_request%26X-Goog-Date%3D20240408T134732Z%26X-Goog-Expires%3D259200%26X-Goog-SignedHeaders%3Dhost%26X-Goog-Signature%3D3c312ce7de6e43f4aaec8e5fb9adb23006bf795a8c587fac06d970e752c48f1614ed05be4a0cb34227edf5bcc9ff70c40a5e155d94e574b7cc0edbecd1a1ab7b83e8e2296eabfd055a1b67e78ba050ec9dd1e2f7164512b074f18ccc3ef0aaa83dff2654ea11c29bae79768244d1801de3fdb358b8706bc244769c6cfa2c7970e9cb1c0c3dc00e1562622616af9e5bc2a11b080d3db6b9457633ec9440b76e3eb296aec877ac710faa3360c4e7ec3e159ed1a372e93c4ee0473f8b255a72a1f64ec23cc303f659ef5ad3cac206a021595baa58fe371f9d70c19f7f3201216b387335433fc53ed41a135498b7add40c5d68fc3dc4a3134c82cfbebab893428c64'\n",
        "\n",
        "KAGGLE_INPUT_PATH='/kaggle/input'\n",
        "KAGGLE_WORKING_PATH='/kaggle/working'\n",
        "KAGGLE_SYMLINK='kaggle'\n",
        "\n",
        "!umount /kaggle/input/ 2> /dev/null\n",
        "shutil.rmtree('/kaggle/input', ignore_errors=True)\n",
        "os.makedirs(KAGGLE_INPUT_PATH, 0o777, exist_ok=True)\n",
        "os.makedirs(KAGGLE_WORKING_PATH, 0o777, exist_ok=True)\n",
        "\n",
        "try:\n",
        "  os.symlink(KAGGLE_INPUT_PATH, os.path.join(\"..\", 'input'), target_is_directory=True)\n",
        "except FileExistsError:\n",
        "  pass\n",
        "try:\n",
        "  os.symlink(KAGGLE_WORKING_PATH, os.path.join(\"..\", 'working'), target_is_directory=True)\n",
        "except FileExistsError:\n",
        "  pass\n",
        "\n",
        "for data_source_mapping in DATA_SOURCE_MAPPING.split(','):\n",
        "    directory, download_url_encoded = data_source_mapping.split(':')\n",
        "    download_url = unquote(download_url_encoded)\n",
        "    filename = urlparse(download_url).path\n",
        "    destination_path = os.path.join(KAGGLE_INPUT_PATH, directory)\n",
        "    try:\n",
        "        with urlopen(download_url) as fileres, NamedTemporaryFile() as tfile:\n",
        "            total_length = fileres.headers['content-length']\n",
        "            print(f'Downloading {directory}, {total_length} bytes compressed')\n",
        "            dl = 0\n",
        "            data = fileres.read(CHUNK_SIZE)\n",
        "            while len(data) > 0:\n",
        "                dl += len(data)\n",
        "                tfile.write(data)\n",
        "                done = int(50 * dl / int(total_length))\n",
        "                sys.stdout.write(f\"\\r[{'=' * done}{' ' * (50-done)}] {dl} bytes downloaded\")\n",
        "                sys.stdout.flush()\n",
        "                data = fileres.read(CHUNK_SIZE)\n",
        "            if filename.endswith('.zip'):\n",
        "              with ZipFile(tfile) as zfile:\n",
        "                zfile.extractall(destination_path)\n",
        "            else:\n",
        "              with tarfile.open(tfile.name) as tarfile:\n",
        "                tarfile.extractall(destination_path)\n",
        "            print(f'\\nDownloaded and uncompressed: {directory}')\n",
        "    except HTTPError as e:\n",
        "        print(f'Failed to load (likely expired) {download_url} to path {destination_path}')\n",
        "        continue\n",
        "    except OSError as e:\n",
        "        print(f'Failed to load {download_url} to path {destination_path}')\n",
        "        continue\n",
        "\n",
        "print('Data source import complete.')\n"
      ],
      "metadata": {
        "id": "RZXUHzya9uBJ"
      },
      "cell_type": "code",
      "outputs": [],
      "execution_count": null
    },
    {
      "cell_type": "code",
      "source": [
        "# This Python 3 environment comes with many helpful analytics libraries installed\n",
        "# It is defined by the kaggle/python Docker image: https://github.com/kaggle/docker-python\n",
        "# For example, here's several helpful packages to load\n",
        "\n",
        "import numpy as np # linear algebra\n",
        "import pandas as pd # data processing, CSV file I/O (e.g. pd.read_csv)\n",
        "\n",
        "# Input data files are available in the read-only \"../input/\" directory\n",
        "# For example, running this (by clicking run or pressing Shift+Enter) will list all files under the input directory\n",
        "\n",
        "import os\n",
        "for dirname, _, filenames in os.walk('/kaggle/input'):\n",
        "    for filename in filenames:\n",
        "        print(os.path.join(dirname, filename))\n",
        "\n",
        "# You can write up to 20GB to the current directory (/kaggle/working/) that gets preserved as output when you create a version using \"Save & Run All\"\n",
        "# You can also write temporary files to /kaggle/temp/, but they won't be saved outside of the current session"
      ],
      "metadata": {
        "_uuid": "8f2839f25d086af736a60e9eeb907d3b93b6e0e5",
        "_cell_guid": "b1076dfc-b9ad-4769-8c92-a6c4dae69d19",
        "execution": {
          "iopub.status.busy": "2023-10-12T20:59:39.421808Z",
          "iopub.execute_input": "2023-10-12T20:59:39.422383Z",
          "iopub.status.idle": "2023-10-12T20:59:39.439149Z",
          "shell.execute_reply.started": "2023-10-12T20:59:39.422349Z",
          "shell.execute_reply": "2023-10-12T20:59:39.437158Z"
        },
        "trusted": true,
        "id": "AvsqGA6S9uBK"
      },
      "execution_count": null,
      "outputs": []
    },
    {
      "cell_type": "code",
      "source": [
        "import numpy as np\n",
        "import matplotlib.pyplot as plt\n",
        "import seaborn as sns\n",
        "from sklearn.model_selection import train_test_split\n",
        "from sklearn.preprocessing import StandardScaler\n",
        "import tensorflow as tf\n",
        "from tensorflow import keras"
      ],
      "metadata": {
        "execution": {
          "iopub.status.busy": "2023-10-12T20:59:39.44236Z",
          "iopub.execute_input": "2023-10-12T20:59:39.44369Z",
          "iopub.status.idle": "2023-10-12T20:59:39.449424Z",
          "shell.execute_reply.started": "2023-10-12T20:59:39.443646Z",
          "shell.execute_reply": "2023-10-12T20:59:39.448288Z"
        },
        "trusted": true,
        "id": "MJ0EprSs9uBL"
      },
      "execution_count": null,
      "outputs": []
    },
    {
      "cell_type": "code",
      "source": [
        "import pandas as pd\n",
        "df = pd.read_csv(\"/kaggle/input/phishing-dataset-for-machine-learning/Phishing_Legitimate_full.csv\")"
      ],
      "metadata": {
        "execution": {
          "iopub.status.busy": "2023-10-12T20:59:39.451005Z",
          "iopub.execute_input": "2023-10-12T20:59:39.452288Z",
          "iopub.status.idle": "2023-10-12T20:59:39.52768Z",
          "shell.execute_reply.started": "2023-10-12T20:59:39.452239Z",
          "shell.execute_reply": "2023-10-12T20:59:39.526329Z"
        },
        "trusted": true,
        "id": "NUpahHS89uBL"
      },
      "execution_count": null,
      "outputs": []
    },
    {
      "cell_type": "code",
      "source": [
        "df.head()"
      ],
      "metadata": {
        "execution": {
          "iopub.status.busy": "2023-10-12T20:59:39.529792Z",
          "iopub.execute_input": "2023-10-12T20:59:39.530174Z",
          "iopub.status.idle": "2023-10-12T20:59:39.551721Z",
          "shell.execute_reply.started": "2023-10-12T20:59:39.530142Z",
          "shell.execute_reply": "2023-10-12T20:59:39.55064Z"
        },
        "trusted": true,
        "id": "XpJnSWLT9uBL"
      },
      "execution_count": null,
      "outputs": []
    },
    {
      "cell_type": "code",
      "source": [
        "df.dtypes"
      ],
      "metadata": {
        "execution": {
          "iopub.status.busy": "2023-10-12T20:59:39.552784Z",
          "iopub.execute_input": "2023-10-12T20:59:39.553131Z",
          "iopub.status.idle": "2023-10-12T20:59:39.57212Z",
          "shell.execute_reply.started": "2023-10-12T20:59:39.553102Z",
          "shell.execute_reply": "2023-10-12T20:59:39.570877Z"
        },
        "trusted": true,
        "id": "vWvEaKXu9uBL"
      },
      "execution_count": null,
      "outputs": []
    },
    {
      "cell_type": "code",
      "source": [
        "df.describe()"
      ],
      "metadata": {
        "execution": {
          "iopub.status.busy": "2023-10-12T20:59:39.599475Z",
          "iopub.execute_input": "2023-10-12T20:59:39.599956Z",
          "iopub.status.idle": "2023-10-12T20:59:39.734565Z",
          "shell.execute_reply.started": "2023-10-12T20:59:39.599919Z",
          "shell.execute_reply": "2023-10-12T20:59:39.733172Z"
        },
        "trusted": true,
        "id": "mR3DN0HT9uBM"
      },
      "execution_count": null,
      "outputs": []
    },
    {
      "cell_type": "code",
      "source": [
        "df.shape"
      ],
      "metadata": {
        "execution": {
          "iopub.status.busy": "2023-10-12T20:59:39.736516Z",
          "iopub.execute_input": "2023-10-12T20:59:39.736869Z",
          "iopub.status.idle": "2023-10-12T20:59:39.744148Z",
          "shell.execute_reply.started": "2023-10-12T20:59:39.736841Z",
          "shell.execute_reply": "2023-10-12T20:59:39.742814Z"
        },
        "trusted": true,
        "id": "TFL1r6_H9uBM"
      },
      "execution_count": null,
      "outputs": []
    },
    {
      "cell_type": "code",
      "source": [
        "df.info()"
      ],
      "metadata": {
        "execution": {
          "iopub.status.busy": "2023-10-12T20:59:39.745665Z",
          "iopub.execute_input": "2023-10-12T20:59:39.746931Z",
          "iopub.status.idle": "2023-10-12T20:59:39.771535Z",
          "shell.execute_reply.started": "2023-10-12T20:59:39.746863Z",
          "shell.execute_reply": "2023-10-12T20:59:39.770364Z"
        },
        "trusted": true,
        "id": "YtFEmYJj9uBM"
      },
      "execution_count": null,
      "outputs": []
    },
    {
      "cell_type": "code",
      "source": [
        "class_counts = df['CLASS_LABEL'].value_counts()\n",
        "print(class_counts)"
      ],
      "metadata": {
        "execution": {
          "iopub.status.busy": "2023-10-12T20:59:39.774048Z",
          "iopub.execute_input": "2023-10-12T20:59:39.774841Z",
          "iopub.status.idle": "2023-10-12T20:59:39.782841Z",
          "shell.execute_reply.started": "2023-10-12T20:59:39.774807Z",
          "shell.execute_reply": "2023-10-12T20:59:39.78139Z"
        },
        "trusted": true,
        "id": "aeVztY9x9uBM"
      },
      "execution_count": null,
      "outputs": []
    },
    {
      "cell_type": "code",
      "source": [
        "plt.figure(figsize=(8, 6))\n",
        "class_counts.plot(kind='bar', color='skyblue')\n",
        "plt.title('Class Label Counts')\n",
        "plt.xlabel('Class Label')\n",
        "plt.ylabel('Count')\n",
        "\n",
        "\n",
        "plt.show()"
      ],
      "metadata": {
        "execution": {
          "iopub.status.busy": "2023-10-12T20:59:39.785077Z",
          "iopub.execute_input": "2023-10-12T20:59:39.786264Z",
          "iopub.status.idle": "2023-10-12T20:59:40.029533Z",
          "shell.execute_reply.started": "2023-10-12T20:59:39.786211Z",
          "shell.execute_reply": "2023-10-12T20:59:40.028319Z"
        },
        "trusted": true,
        "id": "PGRpSiZR9uBN"
      },
      "execution_count": null,
      "outputs": []
    },
    {
      "cell_type": "code",
      "source": [
        "correlations = []\n",
        "for feature in df.columns[:-1]:\n",
        "    correlation = df['CLASS_LABEL'].corr(df[feature])\n",
        "    correlations.append((feature, correlation))\n",
        "\n",
        "\n",
        "correlations.sort(key=lambda x: abs(x[1]), reverse=True)\n",
        "\n",
        "\n",
        "for feature, correlation in correlations:\n",
        "    print(f\"Correlation between {feature} and CLASS_LABEL: {correlation:.2f}\")"
      ],
      "metadata": {
        "execution": {
          "iopub.status.busy": "2023-10-12T20:59:40.03114Z",
          "iopub.execute_input": "2023-10-12T20:59:40.031553Z",
          "iopub.status.idle": "2023-10-12T20:59:40.060382Z",
          "shell.execute_reply.started": "2023-10-12T20:59:40.031522Z",
          "shell.execute_reply": "2023-10-12T20:59:40.059098Z"
        },
        "trusted": true,
        "id": "GHLPMdr99uBN"
      },
      "execution_count": null,
      "outputs": []
    },
    {
      "cell_type": "code",
      "source": [
        "feature_names, feature_correlations = zip(*correlations)\n",
        "plt.figure(figsize=(12, 6))\n",
        "plt.bar(feature_names, feature_correlations)\n",
        "plt.xlabel('Feature')\n",
        "plt.ylabel('Point Biserial Correlation')\n",
        "plt.xticks(rotation=90)\n",
        "plt.show()"
      ],
      "metadata": {
        "execution": {
          "iopub.status.busy": "2023-10-12T20:59:40.0618Z",
          "iopub.execute_input": "2023-10-12T20:59:40.06213Z",
          "iopub.status.idle": "2023-10-12T20:59:40.634185Z",
          "shell.execute_reply.started": "2023-10-12T20:59:40.062105Z",
          "shell.execute_reply": "2023-10-12T20:59:40.632975Z"
        },
        "trusted": true,
        "id": "9OWM9ukP9uBN"
      },
      "execution_count": null,
      "outputs": []
    },
    {
      "cell_type": "code",
      "source": [
        "X = df.drop(columns=['CLASS_LABEL', 'id'])\n",
        "y = df['CLASS_LABEL']\n",
        "\n",
        "\n",
        "scaler = StandardScaler()\n",
        "X = scaler.fit_transform(X)\n",
        "\n",
        "X_train, X_test, y_train, y_test = train_test_split(X, y, test_size=0.2, random_state=42)"
      ],
      "metadata": {
        "execution": {
          "iopub.status.busy": "2023-10-12T20:59:40.635835Z",
          "iopub.execute_input": "2023-10-12T20:59:40.6371Z",
          "iopub.status.idle": "2023-10-12T20:59:40.66906Z",
          "shell.execute_reply.started": "2023-10-12T20:59:40.637045Z",
          "shell.execute_reply": "2023-10-12T20:59:40.667789Z"
        },
        "trusted": true,
        "id": "KUYP_s-s9uBN"
      },
      "execution_count": null,
      "outputs": []
    },
    {
      "cell_type": "code",
      "source": [
        "model = keras.Sequential()\n",
        "\n",
        "# Add input layer\n",
        "model.add(keras.layers.Input(shape=(X_train.shape[1],)))\n",
        "\n",
        "# Add hidden layers\n",
        "model.add(keras.layers.Dense(64, activation='relu'))\n",
        "model.add(keras.layers.Dense(32, activation='relu'))\n",
        "\n",
        "# Add output layer\n",
        "model.add(keras.layers.Dense(1, activation='sigmoid'))\n",
        "\n",
        "# Compile the model\n",
        "model.compile(optimizer='adam', loss='binary_crossentropy', metrics=['accuracy'])"
      ],
      "metadata": {
        "execution": {
          "iopub.status.busy": "2023-10-12T20:59:40.670515Z",
          "iopub.execute_input": "2023-10-12T20:59:40.671291Z",
          "iopub.status.idle": "2023-10-12T20:59:40.731942Z",
          "shell.execute_reply.started": "2023-10-12T20:59:40.671256Z",
          "shell.execute_reply": "2023-10-12T20:59:40.730737Z"
        },
        "trusted": true,
        "id": "9k4RoTKY9uBN"
      },
      "execution_count": null,
      "outputs": []
    },
    {
      "cell_type": "code",
      "source": [
        "model.fit(X_train, y_train, epochs=10, batch_size=32, validation_data=(X_test, y_test))"
      ],
      "metadata": {
        "execution": {
          "iopub.status.busy": "2023-10-12T20:59:40.734722Z",
          "iopub.execute_input": "2023-10-12T20:59:40.735446Z",
          "iopub.status.idle": "2023-10-12T20:59:51.791364Z",
          "shell.execute_reply.started": "2023-10-12T20:59:40.735411Z",
          "shell.execute_reply": "2023-10-12T20:59:51.790295Z"
        },
        "trusted": true,
        "id": "raSOzRfJ9uBN"
      },
      "execution_count": null,
      "outputs": []
    },
    {
      "cell_type": "code",
      "source": [
        "model.fit(X_train, y_train, epochs=10, batch_size=32, validation_data=(X_test, y_test))"
      ],
      "metadata": {
        "execution": {
          "iopub.status.busy": "2023-10-12T20:59:51.793018Z",
          "iopub.execute_input": "2023-10-12T20:59:51.793397Z",
          "iopub.status.idle": "2023-10-12T20:59:56.915787Z",
          "shell.execute_reply.started": "2023-10-12T20:59:51.793365Z",
          "shell.execute_reply": "2023-10-12T20:59:56.914821Z"
        },
        "trusted": true,
        "id": "hNQax4c-9uBN"
      },
      "execution_count": null,
      "outputs": []
    },
    {
      "cell_type": "code",
      "source": [
        "test_loss, test_accuracy = model.evaluate(X_test, y_test)\n",
        "print(f'Test Accuracy: {test_accuracy * 100:.2f}%')"
      ],
      "metadata": {
        "execution": {
          "iopub.status.busy": "2023-10-12T20:59:56.917038Z",
          "iopub.execute_input": "2023-10-12T20:59:56.917353Z",
          "iopub.status.idle": "2023-10-12T20:59:57.078843Z",
          "shell.execute_reply.started": "2023-10-12T20:59:56.917327Z",
          "shell.execute_reply": "2023-10-12T20:59:57.077669Z"
        },
        "trusted": true,
        "id": "qgu5NKgX9uBO"
      },
      "execution_count": null,
      "outputs": []
    },
    {
      "cell_type": "code",
      "source": [
        "y_pred = model.predict(X_test)"
      ],
      "metadata": {
        "execution": {
          "iopub.status.busy": "2023-10-12T20:59:57.080589Z",
          "iopub.execute_input": "2023-10-12T20:59:57.08107Z",
          "iopub.status.idle": "2023-10-12T20:59:57.300031Z",
          "shell.execute_reply.started": "2023-10-12T20:59:57.081027Z",
          "shell.execute_reply": "2023-10-12T20:59:57.298644Z"
        },
        "trusted": true,
        "id": "ktfOOMkM9uBO"
      },
      "execution_count": null,
      "outputs": []
    },
    {
      "cell_type": "code",
      "source": [
        "y_test = y_test.astype(int)\n",
        "y_pred = y_pred.astype(int)\n"
      ],
      "metadata": {
        "execution": {
          "iopub.status.busy": "2023-10-12T20:59:57.30179Z",
          "iopub.execute_input": "2023-10-12T20:59:57.302994Z",
          "iopub.status.idle": "2023-10-12T20:59:57.30844Z",
          "shell.execute_reply.started": "2023-10-12T20:59:57.302957Z",
          "shell.execute_reply": "2023-10-12T20:59:57.307093Z"
        },
        "trusted": true,
        "id": "uMTXdE4K9uBO"
      },
      "execution_count": null,
      "outputs": []
    },
    {
      "cell_type": "code",
      "source": [
        "from sklearn.metrics import accuracy_score, classification_report, confusion_matrix\n",
        "class_report = classification_report(y_test, y_pred, target_names=['Non-Phishing', 'Phishing'])\n",
        "print(\"Classification Report:\")\n",
        "print(class_report)\n",
        "\n"
      ],
      "metadata": {
        "execution": {
          "iopub.status.busy": "2023-10-12T20:59:57.310208Z",
          "iopub.execute_input": "2023-10-12T20:59:57.310626Z",
          "iopub.status.idle": "2023-10-12T20:59:57.335831Z",
          "shell.execute_reply.started": "2023-10-12T20:59:57.310594Z",
          "shell.execute_reply": "2023-10-12T20:59:57.334851Z"
        },
        "trusted": true,
        "id": "ss1y9xr89uBO"
      },
      "execution_count": null,
      "outputs": []
    },
    {
      "cell_type": "code",
      "source": [
        "from sklearn.ensemble import RandomForestClassifier"
      ],
      "metadata": {
        "execution": {
          "iopub.status.busy": "2023-10-12T21:03:52.429619Z",
          "iopub.execute_input": "2023-10-12T21:03:52.430196Z",
          "iopub.status.idle": "2023-10-12T21:03:52.436053Z",
          "shell.execute_reply.started": "2023-10-12T21:03:52.430156Z",
          "shell.execute_reply": "2023-10-12T21:03:52.434737Z"
        },
        "trusted": true,
        "id": "5UU6Bzlt9uBO"
      },
      "execution_count": null,
      "outputs": []
    },
    {
      "cell_type": "code",
      "source": [
        "model = RandomForestClassifier(n_estimators=100, random_state=42)\n",
        "\n",
        "# Model training\n",
        "model.fit(X_train, y_train)\n",
        "\n",
        "# Model evaluation\n",
        "y_pred = model.predict(X_test)\n",
        "accuracy = accuracy_score(y_test, y_pred)\n",
        "print(\"Accuracy:\", accuracy)\n",
        "print(classification_report(y_test, y_pred))\n",
        "conf_matrix = confusion_matrix(y_test, y_pred)\n",
        "sns.heatmap(conf_matrix, annot=True, cmap='Blues')"
      ],
      "metadata": {
        "execution": {
          "iopub.status.busy": "2023-10-12T21:04:38.794236Z",
          "iopub.execute_input": "2023-10-12T21:04:38.794711Z",
          "iopub.status.idle": "2023-10-12T21:04:39.982972Z",
          "shell.execute_reply.started": "2023-10-12T21:04:38.794675Z",
          "shell.execute_reply": "2023-10-12T21:04:39.981702Z"
        },
        "trusted": true,
        "id": "pgAaXAKe9uBO"
      },
      "execution_count": null,
      "outputs": []
    }
  ]
}